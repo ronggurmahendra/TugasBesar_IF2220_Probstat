{
 "cells": [
  {
   "cell_type": "code",
   "execution_count": null,
   "metadata": {},
   "outputs": [],
   "source": [
    "import numpy as np\n",
    "import pandas as pd\n",
    "import matplotlib.pyplot as plt"
   ]
  },
  {
   "cell_type": "code",
   "execution_count": null,
   "metadata": {},
   "outputs": [],
   "source": [
    "df = pd.read_csv(\"Gandum.csv\", header = None,names = [\"id\",\"Daerah\",\"SumbuUtama\",\"SumbuKecil\",\"Keunikan\",\"AreaBulatan\",\"Diameter\",\"KadarAir\",\"Keliling\",\"Bulatan\",\"Ransum\",\"Kelas\"])"
   ]
  },
  {
   "cell_type": "code",
   "execution_count": null,
   "metadata": {},
   "outputs": [],
   "source": [
    "df.info()\n",
    "# Dari sini didapatkan informasi jika semua kolom bertipe numerik dan tidak ada data null"
   ]
  },
  {
   "cell_type": "code",
   "execution_count": null,
   "metadata": {},
   "outputs": [],
   "source": [
    "df.head()"
   ]
  },
  {
   "cell_type": "code",
   "execution_count": null,
   "metadata": {},
   "outputs": [],
   "source": [
    "# NO 1\n",
    "\n",
    "# Karena semua kolom pada tabel bersifat numerik, maka gunakan semua kolom untuk deskripsi statistik\n",
    "atribut = df.drop([\"id\", \"Kelas\"], axis=1) \n",
    "\n",
    "stat = pd.DataFrame()                                           # Data Statistik\n",
    "stat[\"Mean\"] = atribut.mean()                                   # Rataan\n",
    "stat[\"Median\"] = atribut.median()                               # Median\n",
    "stat[\"Modus\"] = atribut.mode().iloc[0]                          # Modus\n",
    "stat[\"Std\"] = atribut.std()                                     # Simpangan Baku\n",
    "stat[\"Var\"] = atribut.var()                                     # Variansi\n",
    "stat[\"Range\"] = atribut.max() - atribut.min()                   # Jangkauan\n",
    "stat[\"Min\"] = atribut.min()                                     # Nilai Minimum\n",
    "stat[\"Max\"] = atribut.max()                                     # Nilai Maksimum\n",
    "stat[\"Q1\"] = atribut.quantile(0.25)                             # Kuartile 1\n",
    "stat[\"Q2\"] = atribut.quantile(0.5)                              # Kuartile 2\n",
    "stat[\"Q3\"] = atribut.quantile(0.75)                             # Kuartile 3\n",
    "stat[\"IQR\"] = atribut.quantile(0.75) - atribut.quantile(0.25)   # Interquartile range\n",
    "stat[\"Skew\"] = atribut.skew()                                   # Skewness\n",
    "stat[\"Kurt\"] = atribut.kurt()                                   # Kurtosis\n",
    "\n",
    "T = stat.transpose()    # Biar tampilannya bagus, ditranspose dulu\n",
    "T.round(3)"
   ]
  },
  {
   "cell_type": "code",
   "execution_count": null,
   "metadata": {},
   "outputs": [],
   "source": [
    "# Tambahan No 1\n",
    "# Karena data modus ada banyak, maka tampilkan semua\n",
    "atribut.mode()"
   ]
  },
  {
   "cell_type": "code",
   "execution_count": null,
   "metadata": {},
   "outputs": [],
   "source": [
    "# No 2\n",
    "# Fungsi menampilkan histogram dan boxplot\n",
    "def show_hist_box(nama_kolom):\n",
    "    plt.subplot(1, 2, 1)\n",
    "    df[nama_kolom].plot(kind=\"hist\",rwidth=0.8)\n",
    "    plt.title(nama_kolom)\n",
    "    plt.xlabel(\"Nilai\")\n",
    "    plt.ylabel(\"Banyak\")\n",
    "\n",
    "    plt.subplot(1, 2, 2)\n",
    "    df[nama_kolom].plot(kind=\"box\", vert=False) # Biar horizontal\n",
    "    plt.title(nama_kolom)\n",
    "    plt.xlabel(\"Nilai\")\n",
    "    plt.yticks(ticks=[0])\n",
    "\n",
    "    plt.tight_layout()\n",
    "    plt.show()"
   ]
  },
  {
   "cell_type": "code",
   "execution_count": null,
   "metadata": {},
   "outputs": [],
   "source": [
    "show_hist_box(\"Daerah\")\n",
    "# Uraian\n"
   ]
  },
  {
   "cell_type": "code",
   "execution_count": null,
   "metadata": {},
   "outputs": [],
   "source": [
    "show_hist_box(\"SumbuUtama\")\r\n",
    "# Uraian\r\n"
   ]
  },
  {
   "cell_type": "code",
   "execution_count": null,
   "metadata": {},
   "outputs": [],
   "source": [
    "show_hist_box(\"SumbuKecil\")\n",
    "# Uraian\n"
   ]
  },
  {
   "cell_type": "code",
   "execution_count": null,
   "metadata": {},
   "outputs": [],
   "source": [
    "show_hist_box(\"Keunikan\")\n",
    "# Uraian\n"
   ]
  },
  {
   "cell_type": "code",
   "execution_count": null,
   "metadata": {},
   "outputs": [],
   "source": [
    "show_hist_box(\"AreaBulatan\")\n",
    "# Uraian\n"
   ]
  },
  {
   "cell_type": "code",
   "execution_count": null,
   "metadata": {},
   "outputs": [],
   "source": [
    "show_hist_box(\"Diameter\")\n",
    "# Uraian\n"
   ]
  },
  {
   "cell_type": "code",
   "execution_count": null,
   "metadata": {},
   "outputs": [],
   "source": [
    "show_hist_box(\"KadarAir\")\n",
    "# Uraian\n"
   ]
  },
  {
   "cell_type": "code",
   "execution_count": null,
   "metadata": {},
   "outputs": [],
   "source": [
    "show_hist_box(\"Keliling\")\n",
    "# Uraian\n"
   ]
  },
  {
   "cell_type": "code",
   "execution_count": null,
   "metadata": {},
   "outputs": [],
   "source": [
    "show_hist_box(\"Bulatan\")\n",
    "# Uraian\n"
   ]
  },
  {
   "cell_type": "code",
   "execution_count": null,
   "metadata": {},
   "outputs": [],
   "source": [
    "show_hist_box(\"Ransum\")\n",
    "# Uraian\n"
   ]
  },
  {
   "cell_type": "code",
   "execution_count": null,
   "metadata": {},
   "outputs": [],
   "source": [
    "df.plot.scatter(x = \"Daerah\", y = \"Kelas\")"
   ]
  }
 ],
 "metadata": {
  "kernelspec": {
   "name": "python391jvsc74a57bd0aecbf246bc7e0649acab9decb8ec173db8cfe19a57da44fe961ee5baa2e6f71a",
   "display_name": "Python 3.9.1 64-bit"
  },
  "language_info": {
   "codemirror_mode": {
    "name": "ipython",
    "version": 3
   },
   "file_extension": ".py",
   "mimetype": "text/x-python",
   "name": "python",
   "nbconvert_exporter": "python",
   "pygments_lexer": "ipython3",
   "version": "3.9.1"
  },
  "metadata": {
   "interpreter": {
    "hash": "aecbf246bc7e0649acab9decb8ec173db8cfe19a57da44fe961ee5baa2e6f71a"
   }
  }
 },
 "nbformat": 4,
 "nbformat_minor": 4
}